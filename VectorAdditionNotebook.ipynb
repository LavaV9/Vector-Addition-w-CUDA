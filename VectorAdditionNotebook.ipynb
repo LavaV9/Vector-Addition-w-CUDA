{
  "nbformat": 4,
  "nbformat_minor": 0,
  "metadata": {
    "colab": {
      "provenance": [],
      "gpuType": "T4"
    },
    "kernelspec": {
      "name": "python3",
      "display_name": "Python 3"
    },
    "language_info": {
      "name": "python"
    },
    "accelerator": "GPU"
  },
  "cells": [
    {
      "cell_type": "code",
      "execution_count": null,
      "metadata": {
        "colab": {
          "base_uri": "https://localhost:8080/"
        },
        "id": "k2gm6PbqMDBl",
        "outputId": "dbae1db6-c638-4766-b083-42eecfa945d3"
      },
      "outputs": [
        {
          "output_type": "stream",
          "name": "stdout",
          "text": [
            "From https://github.com/LavaV9/Vector-Addition-w-CUDA\n",
            " + 3159be7...0cd1697 main       -> origin/main  (forced update)\n",
            "Already up to date.\n",
            "Result: 9 9 9 9 9 9 9 9 \n"
          ]
        }
      ],
      "source": [
        "import os\n",
        "\n",
        "workspace = \"/content/my_cuda_project\"\n",
        "repo_url = \"https://github.com/LavaV9/Vector-Addition-w-CUDA.git\"\n",
        "\n",
        "if not os.path.exists(workspace):\n",
        "    os.makedirs(workspace)\n",
        "os.chdir(workspace)\n",
        "\n",
        "if not os.path.exists(\"Vector-Addition-w-CUDA\"):\n",
        "    !git clone {repo_url}\n",
        "os.chdir(\"Vector-Addition-w-CUDA\")\n",
        "!git pull\n",
        "\n",
        "# Compile for T4 GPU (sm_75)\n",
        "!nvcc -arch=sm_75 vectorAdd.cu -o vectors\n",
        "\n",
        "# Run the executable\n",
        "!./vectors\n"
      ]
    },
    {
      "cell_type": "code",
      "source": [
        "!nvidia-smi\n"
      ],
      "metadata": {
        "colab": {
          "base_uri": "https://localhost:8080/"
        },
        "id": "CupWYJxONCzP",
        "outputId": "05eb8419-f4c4-43eb-92c9-0e725495773b"
      },
      "execution_count": null,
      "outputs": [
        {
          "output_type": "stream",
          "name": "stdout",
          "text": [
            "Mon Sep 22 20:54:37 2025       \n",
            "+-----------------------------------------------------------------------------------------+\n",
            "| NVIDIA-SMI 550.54.15              Driver Version: 550.54.15      CUDA Version: 12.4     |\n",
            "|-----------------------------------------+------------------------+----------------------+\n",
            "| GPU  Name                 Persistence-M | Bus-Id          Disp.A | Volatile Uncorr. ECC |\n",
            "| Fan  Temp   Perf          Pwr:Usage/Cap |           Memory-Usage | GPU-Util  Compute M. |\n",
            "|                                         |                        |               MIG M. |\n",
            "|=========================================+========================+======================|\n",
            "|   0  Tesla T4                       Off |   00000000:00:04.0 Off |                    0 |\n",
            "| N/A   37C    P8             10W /   70W |       0MiB /  15360MiB |      0%      Default |\n",
            "|                                         |                        |                  N/A |\n",
            "+-----------------------------------------+------------------------+----------------------+\n",
            "                                                                                         \n",
            "+-----------------------------------------------------------------------------------------+\n",
            "| Processes:                                                                              |\n",
            "|  GPU   GI   CI        PID   Type   Process name                              GPU Memory |\n",
            "|        ID   ID                                                               Usage      |\n",
            "|=========================================================================================|\n",
            "|  No running processes found                                                             |\n",
            "+-----------------------------------------------------------------------------------------+\n"
          ]
        }
      ]
    }
  ]
}